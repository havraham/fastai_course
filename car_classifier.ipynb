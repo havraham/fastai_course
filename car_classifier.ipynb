{
  "nbformat": 4,
  "nbformat_minor": 0,
  "metadata": {
    "colab": {
      "name": "car-classifier.ipynb",
      "provenance": [],
      "private_outputs": true,
      "collapsed_sections": [],
      "authorship_tag": "ABX9TyM2Tg1saD5YAU+Me7qdebc2",
      "include_colab_link": true
    },
    "kernelspec": {
      "name": "python3",
      "display_name": "Python 3"
    },
    "accelerator": "GPU"
  },
  "cells": [
    {
      "cell_type": "markdown",
      "metadata": {
        "id": "view-in-github",
        "colab_type": "text"
      },
      "source": [
        "<a href=\"https://colab.research.google.com/github/havraham/fastai_course/blob/main/car_classifier.ipynb\" target=\"_parent\"><img src=\"https://colab.research.google.com/assets/colab-badge.svg\" alt=\"Open In Colab\"/></a>"
      ]
    },
    {
      "cell_type": "code",
      "metadata": {
        "id": "JthS76pMFYHG"
      },
      "source": [
        "#hide\n",
        "!pip install -Uqq fastbook\n",
        "import fastbook\n",
        "fastbook.setup_book()"
      ],
      "execution_count": null,
      "outputs": []
    },
    {
      "cell_type": "code",
      "metadata": {
        "id": "8o0l9BSKobSa"
      },
      "source": [
        "#hide\n",
        "from fastbook import *\n",
        "from fastai.vision.widgets import *"
      ],
      "execution_count": null,
      "outputs": []
    },
    {
      "cell_type": "code",
      "metadata": {
        "id": "hE0cx56azPRp"
      },
      "source": [
        "key = os.environ.get('AZURE_SEARCH_KEY','bf360087d6054b0c94c68f74d3d6f239')"
      ],
      "execution_count": null,
      "outputs": []
    },
    {
      "cell_type": "code",
      "metadata": {
        "id": "jcGb1zCd-v4A"
      },
      "source": [
        "search_images_bing"
      ],
      "execution_count": null,
      "outputs": []
    },
    {
      "cell_type": "code",
      "metadata": {
        "id": "aViKzhvV2LRF"
      },
      "source": [
        "??search_images_bing"
      ],
      "execution_count": null,
      "outputs": []
    },
    {
      "cell_type": "markdown",
      "metadata": {
        "id": "8Q5OzURh-zgh"
      },
      "source": [
        ""
      ]
    },
    {
      "cell_type": "code",
      "metadata": {
        "id": "2SrWsqDn-x07"
      },
      "source": [
        "results = search_images_bing(key, 'mercedes')\n",
        "ims = results.attrgot('content_url')\n",
        "len(ims)"
      ],
      "execution_count": null,
      "outputs": []
    },
    {
      "cell_type": "code",
      "metadata": {
        "id": "GD_Uj2PbnExe"
      },
      "source": [
        "ims"
      ],
      "execution_count": null,
      "outputs": []
    },
    {
      "cell_type": "code",
      "metadata": {
        "id": "FyNVGOsS-0sA"
      },
      "source": [
        "#hide\n",
        "ims = [ims[0]]"
      ],
      "execution_count": null,
      "outputs": []
    },
    {
      "cell_type": "code",
      "metadata": {
        "id": "UDlXEk0w-2-O"
      },
      "source": [
        ""
      ],
      "execution_count": null,
      "outputs": []
    },
    {
      "cell_type": "code",
      "metadata": {
        "id": "mFQbGvRa_iGJ"
      },
      "source": [
        "import os\n",
        "!os.mkdir('cars')"
      ],
      "execution_count": null,
      "outputs": []
    },
    {
      "cell_type": "code",
      "metadata": {
        "id": "NgV4UbXZ_irq"
      },
      "source": [
        "dest = 'images/police.jpg'\n",
        "download_url(ims[0], dest)"
      ],
      "execution_count": null,
      "outputs": []
    },
    {
      "cell_type": "code",
      "metadata": {
        "id": "poDS-X3e_0oU"
      },
      "source": [
        "im = Image.open(dest)\n",
        "im.to_thumb(128,128)"
      ],
      "execution_count": null,
      "outputs": []
    },
    {
      "cell_type": "code",
      "metadata": {
        "id": "EGeAMj_P_3JX"
      },
      "source": [
        "cars_types = {'police':'משטרה','taxi': 'מונית','other':'רכב רגיל'}\n",
        "path = Path('cars')\n"
      ],
      "execution_count": null,
      "outputs": []
    },
    {
      "cell_type": "code",
      "metadata": {
        "id": "tOS04ARnCfjZ"
      },
      "source": [
        "type(cars_types)"
      ],
      "execution_count": null,
      "outputs": []
    },
    {
      "cell_type": "code",
      "metadata": {
        "id": "WrwN6NPJoNJE"
      },
      "source": [
        "for k in cars_types:\n",
        "    print(k,cars_types[k])"
      ],
      "execution_count": null,
      "outputs": []
    },
    {
      "cell_type": "code",
      "metadata": {
        "id": "EtyC4V3sA-6v"
      },
      "source": [
        "if not path.exists():\n",
        "    path.mkdir()\n",
        "    for o in cars_types:\n",
        "        dest = (path/o)\n",
        "        # print(dest)\n",
        "        dest.mkdir(exist_ok=True)\n",
        "        results = search_images_bing(key, f'{cars_types[o]} ')\n",
        "        download_images(dest, urls=results.attrgot('content_url'))"
      ],
      "execution_count": null,
      "outputs": []
    },
    {
      "cell_type": "code",
      "metadata": {
        "id": "a6nA81HjARD4"
      },
      "source": [
        "fns = get_image_files(path)\n",
        "fns"
      ],
      "execution_count": null,
      "outputs": []
    },
    {
      "cell_type": "code",
      "metadata": {
        "id": "KTwFN_3UA-Yh"
      },
      "source": [
        "failed = verify_images(fns)\n",
        "failed"
      ],
      "execution_count": null,
      "outputs": []
    },
    {
      "cell_type": "code",
      "metadata": {
        "id": "XuJQ4ajy__sY"
      },
      "source": [
        "failed.map(Path.unlink);"
      ],
      "execution_count": null,
      "outputs": []
    },
    {
      "cell_type": "code",
      "metadata": {
        "id": "_O0Nbcc4AA76"
      },
      "source": [
        "??verify_images"
      ],
      "execution_count": null,
      "outputs": []
    },
    {
      "cell_type": "code",
      "metadata": {
        "id": "-c6HFj7sACSs"
      },
      "source": [
        "cars = DataBlock(\n",
        "    blocks=(ImageBlock, CategoryBlock), \n",
        "    get_items=get_image_files, \n",
        "    splitter=RandomSplitter(valid_pct=0.2, seed=42),\n",
        "    get_y=parent_label,\n",
        "    item_tfms=Resize(128))"
      ],
      "execution_count": null,
      "outputs": []
    },
    {
      "cell_type": "code",
      "metadata": {
        "id": "HtMbhF5GHwqe"
      },
      "source": [
        "cars = cars.new(\n",
        "    item_tfms=RandomResizedCrop(224, min_scale=0.5),\n",
        "    batch_tfms=aug_transforms())\n",
        "dls = cars.dataloaders(path)"
      ],
      "execution_count": null,
      "outputs": []
    },
    {
      "cell_type": "code",
      "metadata": {
        "id": "-CJFS0iAJ498"
      },
      "source": [
        "learn = cnn_learner(dls, resnet18, metrics=error_rate)\n",
        "learn.fine_tune(4)"
      ],
      "execution_count": null,
      "outputs": []
    },
    {
      "cell_type": "code",
      "metadata": {
        "id": "1W0qOOALH0HT"
      },
      "source": [
        "interp = ClassificationInterpretation.from_learner(learn)\n",
        "interp.plot_confusion_matrix()"
      ],
      "execution_count": null,
      "outputs": []
    },
    {
      "cell_type": "code",
      "metadata": {
        "id": "hkPPhTkGIaHp"
      },
      "source": [
        "interp.plot_top_losses(5, nrows=1)"
      ],
      "execution_count": null,
      "outputs": []
    },
    {
      "cell_type": "code",
      "metadata": {
        "id": "2ebGciH9xOAZ"
      },
      "source": [
        "interp.print_classification_report()\n"
      ],
      "execution_count": null,
      "outputs": []
    },
    {
      "cell_type": "code",
      "metadata": {
        "id": "CypDelp7K2Li"
      },
      "source": [
        "cleaner = ImageClassifierCleaner(learn)\n",
        "cleaner"
      ],
      "execution_count": null,
      "outputs": []
    },
    {
      "cell_type": "code",
      "metadata": {
        "id": "F3MYBL0ksz5A"
      },
      "source": [
        "cleaner.delete()"
      ],
      "execution_count": null,
      "outputs": []
    },
    {
      "cell_type": "code",
      "metadata": {
        "id": "UbbzlltJsON7"
      },
      "source": [
        "#hide\n",
        "for idx,cat in cleaner.change(): shutil.move(str(cleaner.fns[idx]), path/cat)\n",
        "for idx in cleaner.change(): cleaner.fns[idx].unlink()\n"
      ],
      "execution_count": null,
      "outputs": []
    },
    {
      "cell_type": "code",
      "metadata": {
        "id": "TWQalTEtL5R0"
      },
      "source": [
        ""
      ],
      "execution_count": null,
      "outputs": []
    },
    {
      "cell_type": "code",
      "metadata": {
        "id": "jk6kiCpnNDpe"
      },
      "source": [
        ""
      ],
      "execution_count": null,
      "outputs": []
    },
    {
      "cell_type": "code",
      "metadata": {
        "id": "9W2w1So5NFnV"
      },
      "source": [
        ""
      ],
      "execution_count": null,
      "outputs": []
    },
    {
      "cell_type": "code",
      "metadata": {
        "id": "RVhRjdj6NpZb"
      },
      "source": [
        "learn.export()"
      ],
      "execution_count": null,
      "outputs": []
    },
    {
      "cell_type": "code",
      "metadata": {
        "id": "bbi6JmDZN97j"
      },
      "source": [
        "learn"
      ],
      "execution_count": null,
      "outputs": []
    },
    {
      "cell_type": "code",
      "metadata": {
        "id": "JrqANDYI0WrK"
      },
      "source": [
        ""
      ],
      "execution_count": null,
      "outputs": []
    },
    {
      "cell_type": "code",
      "metadata": {
        "id": "Uzgc6310N-u-"
      },
      "source": [
        "path = Path()\n",
        "path.ls(file_exts='.pkl')"
      ],
      "execution_count": null,
      "outputs": []
    },
    {
      "cell_type": "code",
      "metadata": {
        "id": "jwVEUDjzOAr6"
      },
      "source": [
        "learn_inf = load_learner(path/'export.pkl')"
      ],
      "execution_count": null,
      "outputs": []
    },
    {
      "cell_type": "code",
      "metadata": {
        "id": "593AYRD_OCbv"
      },
      "source": [
        "learn_inf.predict('images/police.jpg')"
      ],
      "execution_count": null,
      "outputs": []
    },
    {
      "cell_type": "code",
      "metadata": {
        "id": "8HdJYW8ROEK2"
      },
      "source": [
        "learn_inf.dls.vocab"
      ],
      "execution_count": null,
      "outputs": []
    },
    {
      "cell_type": "code",
      "metadata": {
        "id": "YpRQzsQqONW3"
      },
      "source": [
        "#hide_output\n",
        "btn_upload = widgets.FileUpload()\n",
        "btn_upload"
      ],
      "execution_count": null,
      "outputs": []
    },
    {
      "cell_type": "code",
      "metadata": {
        "id": "3w1FG-XVOUgh"
      },
      "source": [
        "#hide\n",
        "# For the book, we can't actually click an upload button, so we fake it\n",
        "btn_upload = SimpleNamespace(data = ['images/police.jpg'])"
      ],
      "execution_count": null,
      "outputs": []
    },
    {
      "cell_type": "code",
      "metadata": {
        "id": "h2tF9W_qOrQl"
      },
      "source": [
        "img = PILImage.create(btn_upload.data[-1])"
      ],
      "execution_count": null,
      "outputs": []
    },
    {
      "cell_type": "code",
      "metadata": {
        "id": "tif97xVSOsmA"
      },
      "source": [
        "#hide_output\n",
        "out_pl = widgets.Output()\n",
        "out_pl.clear_output()\n",
        "with out_pl: display(img.to_thumb(128,128))\n",
        "out_pl"
      ],
      "execution_count": null,
      "outputs": []
    },
    {
      "cell_type": "code",
      "metadata": {
        "id": "gxIDEYpFOuPw"
      },
      "source": [
        "pred,pred_idx,probs = learn_inf.predict(img)"
      ],
      "execution_count": null,
      "outputs": []
    },
    {
      "cell_type": "code",
      "metadata": {
        "id": "0Bdzk1e5OzIc"
      },
      "source": [
        "#hide_output\n",
        "lbl_pred = widgets.Label()\n",
        "lbl_pred.value = f'Prediction: {pred}; Probability: {probs[pred_idx]:.04f}'\n",
        "lbl_pred"
      ],
      "execution_count": null,
      "outputs": []
    },
    {
      "cell_type": "code",
      "metadata": {
        "id": "IxPPhl5sO3I6"
      },
      "source": [
        "#hide_output\n",
        "btn_run = widgets.Button(description='Classify')\n",
        "btn_run"
      ],
      "execution_count": null,
      "outputs": []
    },
    {
      "cell_type": "code",
      "metadata": {
        "id": "8l9VcZysO5yc"
      },
      "source": [
        "def on_click_classify(change):\n",
        "    img = PILImage.create(btn_upload.data[-1])\n",
        "    out_pl.clear_output()\n",
        "    with out_pl: display(img.to_thumb(128,128))\n",
        "    pred,pred_idx,probs = learn_inf.predict(img)\n",
        "    lbl_pred.value = f'Prediction: {pred}; Probability: {probs[pred_idx]:.04f}'\n",
        "\n",
        "btn_run.on_click(on_click_classify)"
      ],
      "execution_count": null,
      "outputs": []
    },
    {
      "cell_type": "code",
      "metadata": {
        "id": "z9Fre0JVO8Mj"
      },
      "source": [
        "#hide\n",
        "#Putting back btn_upload to a widget for next cell\n",
        "btn_upload = widgets.FileUpload()"
      ],
      "execution_count": null,
      "outputs": []
    },
    {
      "cell_type": "code",
      "metadata": {
        "id": "wc1Mg_HvPAOh"
      },
      "source": [
        "#hide_output\n",
        "VBox([widgets.Label('Select your car!'), \n",
        "      btn_upload, btn_run, out_pl, lbl_pred])"
      ],
      "execution_count": null,
      "outputs": []
    },
    {
      "cell_type": "code",
      "metadata": {
        "id": "0FUDhH7rPC9_"
      },
      "source": [
        "#hide\n",
        "# !pip install voila\n",
        "# !jupyter serverextension enable voila —sys-prefix"
      ],
      "execution_count": null,
      "outputs": []
    },
    {
      "cell_type": "code",
      "metadata": {
        "id": "Um5uWgooPPxd"
      },
      "source": [
        ""
      ],
      "execution_count": null,
      "outputs": []
    }
  ]
}